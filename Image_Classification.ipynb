{
 "cells": [
  {
   "cell_type": "markdown",
   "metadata": {
    "id": "HeSnwt5_-t8z"
   },
   "source": [
    "**Load the Data**"
   ]
  },
  {
   "cell_type": "code",
   "execution_count": 1,
   "metadata": {
    "id": "TX1RIt7S8gCo"
   },
   "outputs": [
    {
     "ename": "ModuleNotFoundError",
     "evalue": "No module named 'tensorflow'",
     "output_type": "error",
     "traceback": [
      "\u001b[1;31m---------------------------------------------------------------------------\u001b[0m",
      "\u001b[1;31mModuleNotFoundError\u001b[0m                       Traceback (most recent call last)",
      "Input \u001b[1;32mIn [1]\u001b[0m, in \u001b[0;36m<cell line: 3>\u001b[1;34m()\u001b[0m\n\u001b[0;32m      1\u001b[0m \u001b[38;5;28;01mimport\u001b[39;00m \u001b[38;5;21;01mnumpy\u001b[39;00m \u001b[38;5;28;01mas\u001b[39;00m \u001b[38;5;21;01mnp\u001b[39;00m\n\u001b[0;32m      2\u001b[0m \u001b[38;5;28;01mimport\u001b[39;00m \u001b[38;5;21;01mmatplotlib\u001b[39;00m\u001b[38;5;21;01m.\u001b[39;00m\u001b[38;5;21;01mpyplot\u001b[39;00m \u001b[38;5;28;01mas\u001b[39;00m \u001b[38;5;21;01mplt\u001b[39;00m\n\u001b[1;32m----> 3\u001b[0m \u001b[38;5;28;01mfrom\u001b[39;00m \u001b[38;5;21;01mtensorflow\u001b[39;00m\u001b[38;5;21;01m.\u001b[39;00m\u001b[38;5;21;01mkeras\u001b[39;00m\u001b[38;5;21;01m.\u001b[39;00m\u001b[38;5;21;01mdatasets\u001b[39;00m \u001b[38;5;28;01mimport\u001b[39;00m mnist\n\u001b[0;32m      6\u001b[0m (train_images, train_labels), (test_images, test_labels) \u001b[38;5;241m=\u001b[39m mnist\u001b[38;5;241m.\u001b[39mload_data()\n",
      "\u001b[1;31mModuleNotFoundError\u001b[0m: No module named 'tensorflow'"
     ]
    }
   ],
   "source": [
    "import numpy as np\n",
    "import matplotlib.pyplot as plt\n",
    "from tensorflow.keras.datasets import mnist\n",
    "\n",
    "\n",
    "(train_images, train_labels), (test_images, test_labels) = mnist.load_data()"
   ]
  },
  {
   "cell_type": "markdown",
   "metadata": {
    "id": "nWNIoTqE-ygp"
   },
   "source": [
    "**Explore Data**"
   ]
  },
  {
   "cell_type": "code",
   "execution_count": 2,
   "metadata": {
    "colab": {
     "base_uri": "https://localhost:8080/"
    },
    "id": "KYszR_JJ80oQ",
    "outputId": "5fe8037a-466d-41f7-be45-3d72aa25fdd4"
   },
   "outputs": [
    {
     "ename": "ModuleNotFoundError",
     "evalue": "No module named 'tensorflow'",
     "output_type": "error",
     "traceback": [
      "\u001b[1;31m---------------------------------------------------------------------------\u001b[0m",
      "\u001b[1;31mModuleNotFoundError\u001b[0m                       Traceback (most recent call last)",
      "Input \u001b[1;32mIn [2]\u001b[0m, in \u001b[0;36m<cell line: 1>\u001b[1;34m()\u001b[0m\n\u001b[1;32m----> 1\u001b[0m \u001b[38;5;28;01mfrom\u001b[39;00m \u001b[38;5;21;01mtensorflow\u001b[39;00m\u001b[38;5;21;01m.\u001b[39;00m\u001b[38;5;21;01mkeras\u001b[39;00m\u001b[38;5;21;01m.\u001b[39;00m\u001b[38;5;21;01mutils\u001b[39;00m \u001b[38;5;28;01mimport\u001b[39;00m to_categorical\n\u001b[0;32m      4\u001b[0m \u001b[38;5;28mprint\u001b[39m(\u001b[38;5;124m'\u001b[39m\u001b[38;5;124mTraining data shape : \u001b[39m\u001b[38;5;124m'\u001b[39m, train_images\u001b[38;5;241m.\u001b[39mshape, train_labels\u001b[38;5;241m.\u001b[39mshape)\n\u001b[0;32m      5\u001b[0m \u001b[38;5;28mprint\u001b[39m(\u001b[38;5;124m'\u001b[39m\u001b[38;5;124mTesting data shape : \u001b[39m\u001b[38;5;124m'\u001b[39m, test_images\u001b[38;5;241m.\u001b[39mshape, test_labels\u001b[38;5;241m.\u001b[39mshape)\n",
      "\u001b[1;31mModuleNotFoundError\u001b[0m: No module named 'tensorflow'"
     ]
    }
   ],
   "source": [
    "from tensorflow.keras.utils import to_categorical\n",
    "\n",
    "\n",
    "print('Training data shape : ', train_images.shape, train_labels.shape)\n",
    "print('Testing data shape : ', test_images.shape, test_labels.shape)"
   ]
  },
  {
   "cell_type": "code",
   "execution_count": null,
   "metadata": {
    "colab": {
     "base_uri": "https://localhost:8080/"
    },
    "id": "cRUGwSJn85Sl",
    "outputId": "f3d1b24a-0dc3-478b-8ac9-07d6c464cc29"
   },
   "outputs": [
    {
     "name": "stdout",
     "output_type": "stream",
     "text": [
      "Total number of outputs :  10\n",
      "Output classes :  [0 1 2 3 4 5 6 7 8 9]\n"
     ]
    }
   ],
   "source": [
    "# Find the unique numbers from the train labels\n",
    "classes = np.unique(train_labels)\n",
    "classes_num = len(classes)\n",
    "print('Total number of outputs : ', classes_num)\n",
    "print('Output classes : ', classes)"
   ]
  },
  {
   "cell_type": "code",
   "execution_count": null,
   "metadata": {
    "colab": {
     "base_uri": "https://localhost:8080/",
     "height": 335
    },
    "id": "CHh3zsUa9Fvr",
    "outputId": "b629ca07-371a-41b0-af98-5394c32c1e54"
   },
   "outputs": [
    {
     "data": {
      "text/plain": [
       "Text(0.5, 1.0, 'Ground Truth : 5')"
      ]
     },
     "execution_count": 9,
     "metadata": {},
     "output_type": "execute_result"
    },
    {
     "data": {
      "image/png": "[encoded data removed]",
      "text/plain": [
       "<Figure size 720x360 with 1 Axes>"
      ]
     },
     "metadata": {
      "needs_background": "light"
     },
     "output_type": "display_data"
    }
   ],
   "source": [
    "plt.figure(figsize=[10,5])\n",
    "\n",
    "# Display the first image in training data\n",
    "plt.subplot(121)\n",
    "plt.imshow(train_images[0,:,:], cmap='gray')\n",
    "plt.title(\"Ground Truth : {}\".format(train_labels[0]))"
   ]
  },
  {
   "cell_type": "code",
   "execution_count": null,
   "metadata": {
    "colab": {
     "base_uri": "https://localhost:8080/",
     "height": 233
    },
    "id": "jT4__xbX9IvH",
    "outputId": "eff1067e-6716-44b6-b405-19e8202a2447"
   },
   "outputs": [
    {
     "data": {
      "text/plain": [
       "Text(0.5, 1.0, 'Ground Truth : 7')"
      ]
     },
     "execution_count": 10,
     "metadata": {},
     "output_type": "execute_result"
    },
    {
     "data": {
      "image/png": "[encoded data removed]",
      "text/plain": [
       "<Figure size 432x288 with 1 Axes>"
      ]
     },
     "metadata": {
      "needs_background": "light"
     },
     "output_type": "display_data"
    }
   ],
   "source": [
    "# Display the first image in testing data\n",
    "plt.subplot(122)\n",
    "plt.imshow(test_images[0,:,:], cmap='gray')\n",
    "plt.title(\"Ground Truth : {}\".format(test_labels[0]))"
   ]
  },
  {
   "cell_type": "markdown",
   "metadata": {
    "id": "AIIh-u7a-5o0"
   },
   "source": [
    "**Process the data**"
   ]
  },
  {
   "cell_type": "code",
   "execution_count": null,
   "metadata": {
    "colab": {
     "base_uri": "https://localhost:8080/"
    },
    "id": "-z89fNux9TFj",
    "outputId": "f4d45fb7-afcb-4fdd-b190-44386f244a01"
   },
   "outputs": [
    {
     "name": "stdout",
     "output_type": "stream",
     "text": [
      "dim_data: 784\n"
     ]
    }
   ],
   "source": [
    "# Change from matrix to array of dimension 28x28 to array of dimension 784\n",
    "dim_data = np.prod(train_images.shape[1:])\n",
    "print(\"dim_data:\", dim_data)\n",
    "\n",
    "train_data = train_images.reshape(train_images.shape[0], dim_data)\n",
    "test_data = test_images.reshape(test_images.shape[0], dim_data)"
   ]
  },
  {
   "cell_type": "code",
   "execution_count": null,
   "metadata": {
    "id": "ArGXXzQM9dMu"
   },
   "outputs": [],
   "source": [
    "# Change to float datatype\n",
    "train_data = train_data.astype('float32')\n",
    "test_data = test_data.astype('float32')"
   ]
  },
  {
   "cell_type": "code",
   "execution_count": null,
   "metadata": {
    "id": "9sK2A1sz9g1X"
   },
   "outputs": [],
   "source": [
    "# Change the labels from integer to categorical data\n",
    "train_labels_one_hot = to_categorical(train_labels)\n",
    "test_labels_one_hot = to_categorical(test_labels)"
   ]
  },
  {
   "cell_type": "markdown",
   "metadata": {
    "id": "a7V_GgdI--LR"
   },
   "source": [
    "**Create the Network Architecure**"
   ]
  },
  {
   "cell_type": "code",
   "execution_count": null,
   "metadata": {
    "id": "kMDRmq2_9qAc"
   },
   "outputs": [],
   "source": [
    "from tensorflow.keras.models import Sequential\n",
    "from tensorflow.keras.layers import Dense\n",
    "\n",
    "model = Sequential()\n",
    "model.add(Dense(512, activation='relu', input_shape=(dim_data,)))\n",
    "model.add(Dense(512, activation='relu'))\n",
    "model.add(Dense(classes_num, activation='softmax'))"
   ]
  },
  {
   "cell_type": "markdown",
   "metadata": {
    "id": "IIH_6Rxm_ChV"
   },
   "source": [
    "**Configure the Network**"
   ]
  },
  {
   "cell_type": "code",
   "execution_count": null,
   "metadata": {
    "id": "R_FRjhZ49u-B"
   },
   "outputs": [],
   "source": [
    "model.compile(optimizer='rmsprop', loss='categorical_crossentropy', metrics=['accuracy'])"
   ]
  },
  {
   "cell_type": "markdown",
   "metadata": {
    "id": "4D5fYNWO_EvO"
   },
   "source": [
    "**Train the Model**"
   ]
  },
  {
   "cell_type": "code",
   "execution_count": null,
   "metadata": {
    "colab": {
     "base_uri": "https://localhost:8080/"
    },
    "id": "tQ6-qE7G9xmA",
    "outputId": "287c5e3f-2c7d-43b7-da07-eb5aea0b405b"
   },
   "outputs": [
    {
     "name": "stdout",
     "output_type": "stream",
     "text": [
      "Epoch 1/20\n",
      "235/235 [==============================] - 6s 24ms/step - loss: 5.3146 - accuracy: 0.8778 - val_loss: 0.6292 - val_accuracy: 0.9324\n",
      "Epoch 2/20\n",
      "235/235 [==============================] - 6s 23ms/step - loss: 0.4444 - accuracy: 0.9454 - val_loss: 0.3465 - val_accuracy: 0.9443\n",
      "Epoch 3/20\n",
      "235/235 [==============================] - 6s 26ms/step - loss: 0.2560 - accuracy: 0.9584 - val_loss: 0.3577 - val_accuracy: 0.9437\n",
      "Epoch 4/20\n",
      "235/235 [==============================] - 5s 23ms/step - loss: 0.2103 - accuracy: 0.9658 - val_loss: 0.3463 - val_accuracy: 0.9574\n",
      "Epoch 5/20\n",
      "235/235 [==============================] - 5s 23ms/step - loss: 0.1845 - accuracy: 0.9725 - val_loss: 0.3986 - val_accuracy: 0.9621\n",
      "Epoch 6/20\n",
      "235/235 [==============================] - 8s 34ms/step - loss: 0.1666 - accuracy: 0.9761 - val_loss: 0.3493 - val_accuracy: 0.9599\n",
      "Epoch 7/20\n",
      "235/235 [==============================] - 9s 40ms/step - loss: 0.1432 - accuracy: 0.9792 - val_loss: 0.4181 - val_accuracy: 0.9636\n",
      "Epoch 8/20\n",
      "235/235 [==============================] - 8s 35ms/step - loss: 0.1468 - accuracy: 0.9809 - val_loss: 0.4990 - val_accuracy: 0.9578\n",
      "Epoch 9/20\n",
      "235/235 [==============================] - 6s 27ms/step - loss: 0.1450 - accuracy: 0.9831 - val_loss: 0.4555 - val_accuracy: 0.9647\n",
      "Epoch 10/20\n",
      "235/235 [==============================] - 6s 26ms/step - loss: 0.1227 - accuracy: 0.9842 - val_loss: 0.3358 - val_accuracy: 0.9702\n",
      "Epoch 11/20\n",
      "235/235 [==============================] - 5s 23ms/step - loss: 0.1226 - accuracy: 0.9849 - val_loss: 0.4017 - val_accuracy: 0.9739\n",
      "Epoch 12/20\n",
      "235/235 [==============================] - 6s 23ms/step - loss: 0.1347 - accuracy: 0.9860 - val_loss: 0.5180 - val_accuracy: 0.9668\n",
      "Epoch 13/20\n",
      "235/235 [==============================] - 6s 24ms/step - loss: 0.1226 - accuracy: 0.9874 - val_loss: 0.3932 - val_accuracy: 0.9785\n",
      "Epoch 14/20\n",
      "235/235 [==============================] - 5s 23ms/step - loss: 0.1112 - accuracy: 0.9891 - val_loss: 0.5247 - val_accuracy: 0.9728\n",
      "Epoch 15/20\n",
      "235/235 [==============================] - 5s 23ms/step - loss: 0.1233 - accuracy: 0.9894 - val_loss: 0.5664 - val_accuracy: 0.9748\n",
      "Epoch 16/20\n",
      "235/235 [==============================] - 6s 26ms/step - loss: 0.1077 - accuracy: 0.9900 - val_loss: 0.7190 - val_accuracy: 0.9719\n",
      "Epoch 17/20\n",
      "235/235 [==============================] - 6s 24ms/step - loss: 0.0985 - accuracy: 0.9912 - val_loss: 0.5085 - val_accuracy: 0.9770\n",
      "Epoch 18/20\n",
      "235/235 [==============================] - 6s 23ms/step - loss: 0.1085 - accuracy: 0.9911 - val_loss: 0.6917 - val_accuracy: 0.9772\n",
      "Epoch 19/20\n",
      "235/235 [==============================] - 5s 23ms/step - loss: 0.1088 - accuracy: 0.9922 - val_loss: 0.7690 - val_accuracy: 0.9744\n",
      "Epoch 20/20\n",
      "235/235 [==============================] - 6s 23ms/step - loss: 0.0881 - accuracy: 0.9927 - val_loss: 0.7363 - val_accuracy: 0.9766\n"
     ]
    }
   ],
   "source": [
    "history = model.fit(train_data, train_labels_one_hot, batch_size=256, epochs=20, verbose=1, \n",
    "                   validation_data=(test_data, test_labels_one_hot))"
   ]
  },
  {
   "cell_type": "markdown",
   "metadata": {
    "id": "srsgl8M2_H8b"
   },
   "source": [
    "**Evaluate the trained model**"
   ]
  },
  {
   "cell_type": "code",
   "execution_count": null,
   "metadata": {
    "colab": {
     "base_uri": "https://localhost:8080/"
    },
    "id": "FOdYSGHT91UE",
    "outputId": "c5d08aea-59dc-47bf-8142-be8496cfd848"
   },
   "outputs": [
    {
     "name": "stdout",
     "output_type": "stream",
     "text": [
      "313/313 [==============================] - 1s 3ms/step - loss: 0.7363 - accuracy: 0.9766\n",
      "Evaluation result on Test Data : Loss = 0.7363115549087524, accuracy = 0.9765999913215637\n"
     ]
    }
   ],
   "source": [
    "[test_loss, test_acc] = model.evaluate(test_data, test_labels_one_hot)\n",
    "print(\"Evaluation result on Test Data : Loss = {}, accuracy = {}\".format(test_loss, test_acc))"
   ]
  },
  {
   "cell_type": "markdown",
   "metadata": {
    "id": "2SIGBfc5_JoZ"
   },
   "source": [
    "**Display Loss and Accuracy Plots**"
   ]
  },
  {
   "cell_type": "code",
   "execution_count": null,
   "metadata": {
    "colab": {
     "base_uri": "https://localhost:8080/",
     "height": 822
    },
    "id": "t8g9Hq7P95gM",
    "outputId": "4540392a-fbaa-479a-ad50-df8b4b8d1d2e"
   },
   "outputs": [
    {
     "data": {
      "text/plain": [
       "Text(0.5, 1.0, 'Accuracy Curves')"
      ]
     },
     "execution_count": 19,
     "metadata": {},
     "output_type": "execute_result"
    },
    {
     "data": {
      "image/png": "[encoded data removed]",
      "text/plain": [
       "<Figure size 576x432 with 1 Axes>"
      ]
     },
     "metadata": {
      "needs_background": "light"
     },
     "output_type": "display_data"
    },
    {
     "data": {
      "image/png": "[encoded data removed]",
      "text/plain": [
       "<Figure size 576x432 with 1 Axes>"
      ]
     },
     "metadata": {
      "needs_background": "light"
     },
     "output_type": "display_data"
    }
   ],
   "source": [
    "#Plot the Loss Curves\n",
    "plt.figure(figsize=[8,6])\n",
    "plt.plot(history.history['loss'],'r',linewidth=3.0)\n",
    "plt.plot(history.history['val_loss'],'b',linewidth=3.0)\n",
    "plt.legend(['Training loss', 'Validation Loss'],fontsize=18)\n",
    "plt.xlabel('Epochs ',fontsize=16)\n",
    "plt.ylabel('Loss',fontsize=16)\n",
    "plt.title('Loss Curves',fontsize=16)\n",
    "\n",
    "#Plot the Accuracy Curves\n",
    "plt.figure(figsize=[8,6])\n",
    "plt.plot(history.history['accuracy'],'r',linewidth=3.0)\n",
    "plt.plot(history.history['val_accuracy'],'b',linewidth=3.0)\n",
    "plt.legend(['Training Accuracy', 'Validation Accuracy'],fontsize=18)\n",
    "plt.xlabel('Epochs ',fontsize=16)\n",
    "plt.ylabel('Accuracy',fontsize=16)\n",
    "plt.title('Accuracy Curves',fontsize=16)"
   ]
  },
  {
   "cell_type": "markdown",
   "metadata": {
    "id": "gSmw1LiD_TSc"
   },
   "source": [
    "**Testing a single image**"
   ]
  },
  {
   "cell_type": "code",
   "execution_count": null,
   "metadata": {
    "colab": {
     "base_uri": "https://localhost:8080/",
     "height": 316
    },
    "id": "dF1gnXRd-J0-",
    "outputId": "d44555df-30c3-4e18-ab8b-917e127d3561"
   },
   "outputs": [
    {
     "name": "stdout",
     "output_type": "stream",
     "text": [
      "Model prediction: [0. 0. 1. 0. 0. 0. 0. 0. 0. 0.]\n"
     ]
    },
    {
     "data": {
      "text/plain": [
       "Text(0.5, 1.0, 'Ground Truth : 2')"
      ]
     },
     "execution_count": 22,
     "metadata": {},
     "output_type": "execute_result"
    },
    {
     "data": {
      "image/png": "[encoded data removed]",
      "text/plain": [
       "<Figure size 432x288 with 1 Axes>"
      ]
     },
     "metadata": {
      "needs_background": "light"
     },
     "output_type": "display_data"
    }
   ],
   "source": [
    "# Predict the most likely class\n",
    "print(\"Model prediction: {}\".format(model.predict(test_data[[1],:])[0]))\n",
    "\n",
    "# Display the predicted image\n",
    "plt.imshow(test_images[1], cmap='gray')\n",
    "plt.title(\"Ground Truth : {}\".format(test_labels[1]))"
   ]
  }
 ],
 "metadata": {
  "colab": {
   "collapsed_sections": [],
   "name": "Image_Classification.ipynb",
   "provenance": []
  },
  "kernelspec": {
   "display_name": "Python 3 (ipykernel)",
   "language": "python",
   "name": "python3"
  },
  "language_info": {
   "codemirror_mode": {
    "name": "ipython",
    "version": 3
   },
   "file_extension": ".py",
   "mimetype": "text/x-python",
   "name": "python",
   "nbconvert_exporter": "python",
   "pygments_lexer": "ipython3",
   "version": "3.9.12"
  }
 },
 "nbformat": 4,
 "nbformat_minor": 1
}
