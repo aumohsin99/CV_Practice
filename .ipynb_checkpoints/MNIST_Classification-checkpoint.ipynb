{
 "cells": [
  {
   "cell_type": "code",
   "execution_count": null,
   "metadata": {
    "colab": {
     "base_uri": "https://localhost:8080/"
    },
    "id": "dN8upSC4zqIX",
    "outputId": "735a1f65-22e0-44a6-953f-1e08b79be51b"
   },
   "outputs": [
    {
     "name": "stdout",
     "output_type": "stream",
     "text": [
      "Mounted at /content/drive\n"
     ]
    }
   ],
   "source": [
    "from google.colab import drive\n",
    "drive.mount('/content/drive')"
   ]
  },
  {
   "cell_type": "code",
   "execution_count": null,
   "metadata": {
    "colab": {
     "base_uri": "https://localhost:8080/"
    },
    "id": "VsQ41-jY0t8L",
    "outputId": "06883921-a08f-4e4b-88b7-932607f02966"
   },
   "outputs": [
    {
     "name": "stdout",
     "output_type": "stream",
     "text": [
      " Digits\t\t\t   Image_Classification.ipynb\n",
      "'Fully Connected_NN.PNG'   MNIST_Classification.ipynb\n"
     ]
    }
   ],
   "source": [
    "!ls '/content/drive/My Drive/ComputerVision_Shared/Deep_Learning_Code/'"
   ]
  },
  {
   "cell_type": "code",
   "execution_count": null,
   "metadata": {
    "id": "DDCWHUeYztCF"
   },
   "outputs": [],
   "source": [
    "path = '/content/drive/My Drive/ComputerVision_Shared/Deep_Learning_Code/Digits/'"
   ]
  },
  {
   "cell_type": "markdown",
   "metadata": {
    "id": "HeSnwt5_-t8z"
   },
   "source": [
    "**Load the Data**"
   ]
  },
  {
   "cell_type": "code",
   "execution_count": 1,
   "metadata": {
    "id": "TX1RIt7S8gCo"
   },
   "outputs": [
    {
     "ename": "ModuleNotFoundError",
     "evalue": "No module named 'tensorflow'",
     "output_type": "error",
     "traceback": [
      "\u001b[1;31m---------------------------------------------------------------------------\u001b[0m",
      "\u001b[1;31mModuleNotFoundError\u001b[0m                       Traceback (most recent call last)",
      "Input \u001b[1;32mIn [1]\u001b[0m, in \u001b[0;36m<cell line: 4>\u001b[1;34m()\u001b[0m\n\u001b[0;32m      2\u001b[0m \u001b[38;5;28;01mimport\u001b[39;00m \u001b[38;5;21;01mnumpy\u001b[39;00m \u001b[38;5;28;01mas\u001b[39;00m \u001b[38;5;21;01mnp\u001b[39;00m\n\u001b[0;32m      3\u001b[0m \u001b[38;5;28;01mimport\u001b[39;00m \u001b[38;5;21;01mmatplotlib\u001b[39;00m\u001b[38;5;21;01m.\u001b[39;00m\u001b[38;5;21;01mpyplot\u001b[39;00m \u001b[38;5;28;01mas\u001b[39;00m \u001b[38;5;21;01mplt\u001b[39;00m\n\u001b[1;32m----> 4\u001b[0m \u001b[38;5;28;01mfrom\u001b[39;00m \u001b[38;5;21;01mtensorflow\u001b[39;00m\u001b[38;5;21;01m.\u001b[39;00m\u001b[38;5;21;01mkeras\u001b[39;00m\u001b[38;5;21;01m.\u001b[39;00m\u001b[38;5;21;01mutils\u001b[39;00m \u001b[38;5;28;01mimport\u001b[39;00m to_categorical\n",
      "\u001b[1;31mModuleNotFoundError\u001b[0m: No module named 'tensorflow'"
     ]
    }
   ],
   "source": [
    "import os\n",
    "import numpy as np\n",
    "import matplotlib.pyplot as plt\n",
    "from tensorflow.keras.utils import to_categorical"
   ]
  },
  {
   "cell_type": "code",
   "execution_count": null,
   "metadata": {
    "id": "qrG0kOyl1vD7"
   },
   "outputs": [],
   "source": [
    "images = []\n",
    "labels = []"
   ]
  },
  {
   "cell_type": "code",
   "execution_count": null,
   "metadata": {
    "colab": {
     "base_uri": "https://localhost:8080/"
    },
    "id": "DfZdhLFk0-Ib",
    "outputId": "b20c0d02-4751-48d4-ef95-66c313f1dd1f"
   },
   "outputs": [
    {
     "data": {
      "text/plain": [
       "['6', '2', '8', '1', '0', '7', '4', '9', '3', '5']"
      ]
     },
     "execution_count": 6,
     "metadata": {},
     "output_type": "execute_result"
    }
   ],
   "source": [
    "folders = os.listdir(path)\n",
    "folders"
   ]
  },
  {
   "cell_type": "code",
   "execution_count": null,
   "metadata": {
    "colab": {
     "base_uri": "https://localhost:8080/"
    },
    "id": "pbtYv5Zt1MzP",
    "outputId": "d9ef2cfa-1cf9-481c-e3f9-5da561afa58d"
   },
   "outputs": [
    {
     "name": "stdout",
     "output_type": "stream",
     "text": [
      "6\n",
      "2\n",
      "8\n",
      "1\n",
      "0\n",
      "7\n",
      "4\n",
      "9\n",
      "3\n",
      "5\n"
     ]
    }
   ],
   "source": [
    "for folder in folders:\n",
    "  print(folder)\n",
    "  filenames = os.listdir(path+folder+'/')\n",
    "\n",
    "  for fname in filenames:\n",
    "    img = plt.imread(path+folder+'/'+fname)\n",
    "    images.append(img)\n",
    "    labels.append(int(folder))"
   ]
  },
  {
   "cell_type": "code",
   "execution_count": null,
   "metadata": {
    "id": "zKbghJdP3htI"
   },
   "outputs": [],
   "source": [
    "images = np.array(images)\n",
    "labels = np.array(labels)"
   ]
  },
  {
   "cell_type": "code",
   "execution_count": null,
   "metadata": {
    "id": "fs37J7e94AUU"
   },
   "outputs": [],
   "source": [
    "from sklearn.model_selection import train_test_split\n",
    "\n",
    "train_images, test_images, train_labels, test_labels = train_test_split(images, labels, test_size=0.20, random_state=0, shuffle=True)"
   ]
  },
  {
   "cell_type": "markdown",
   "metadata": {
    "id": "nWNIoTqE-ygp"
   },
   "source": [
    "**Explore Data**"
   ]
  },
  {
   "cell_type": "code",
   "execution_count": null,
   "metadata": {
    "colab": {
     "base_uri": "https://localhost:8080/"
    },
    "id": "KYszR_JJ80oQ",
    "outputId": "c21d0569-b78a-438a-8cd9-7ed8e323634f"
   },
   "outputs": [
    {
     "name": "stdout",
     "output_type": "stream",
     "text": [
      "Training data shape :  (480, 28, 28) (480,)\n",
      "Testing data shape :  (120, 28, 28) (120,)\n"
     ]
    }
   ],
   "source": [
    "print('Training data shape : ', train_images.shape, train_labels.shape)\n",
    "print('Testing data shape : ', test_images.shape, test_labels.shape)"
   ]
  },
  {
   "cell_type": "code",
   "execution_count": null,
   "metadata": {
    "colab": {
     "base_uri": "https://localhost:8080/"
    },
    "id": "cRUGwSJn85Sl",
    "outputId": "27e936b5-2a75-41d2-d1c6-e6a99d66f489"
   },
   "outputs": [
    {
     "name": "stdout",
     "output_type": "stream",
     "text": [
      "Total number of outputs :  10\n",
      "Output classes :  [0 1 2 3 4 5 6 7 8 9]\n"
     ]
    }
   ],
   "source": [
    "# Find the unique numbers from the train labels\n",
    "classes = np.unique(train_labels)\n",
    "classes_num = len(classes)\n",
    "print('Total number of outputs : ', classes_num)\n",
    "print('Output classes : ', classes)"
   ]
  },
  {
   "cell_type": "code",
   "execution_count": null,
   "metadata": {
    "colab": {
     "base_uri": "https://localhost:8080/",
     "height": 335
    },
    "id": "CHh3zsUa9Fvr",
    "outputId": "53f581de-cb09-4b99-e89e-b31e27fb041c"
   },
   "outputs": [
    {
     "data": {
      "text/plain": [
       "Text(0.5, 1.0, 'Ground Truth : 6')"
      ]
     },
     "execution_count": 13,
     "metadata": {},
     "output_type": "execute_result"
    },
    {
     "data": {
      "image/png": "[encoded data removed]",
      "text/plain": [
       "<Figure size 720x360 with 1 Axes>"
      ]
     },
     "metadata": {
      "needs_background": "light"
     },
     "output_type": "display_data"
    }
   ],
   "source": [
    "plt.figure(figsize=[10,5])\n",
    "\n",
    "# Display the first image in training data\n",
    "plt.subplot(121)\n",
    "plt.imshow(train_images[2,:,:], cmap='gray')\n",
    "plt.title(\"Ground Truth : {}\".format(train_labels[2]))"
   ]
  },
  {
   "cell_type": "code",
   "execution_count": null,
   "metadata": {
    "colab": {
     "base_uri": "https://localhost:8080/",
     "height": 233
    },
    "id": "jT4__xbX9IvH",
    "outputId": "7eebac37-e39d-46d9-9b40-bf09b722d15c"
   },
   "outputs": [
    {
     "data": {
      "text/plain": [
       "Text(0.5, 1.0, 'Ground Truth : 5')"
      ]
     },
     "execution_count": 13,
     "metadata": {},
     "output_type": "execute_result"
    },
    {
     "data": {
      "image/png": "[encoded data removed]",
      "text/plain": [
       "<Figure size 432x288 with 1 Axes>"
      ]
     },
     "metadata": {
      "needs_background": "light"
     },
     "output_type": "display_data"
    }
   ],
   "source": [
    "# Display the first image in testing data\n",
    "plt.subplot(122)\n",
    "plt.imshow(test_images[5,:,:], cmap='gray')\n",
    "plt.title(\"Ground Truth : {}\".format(test_labels[5]))"
   ]
  },
  {
   "cell_type": "markdown",
   "metadata": {
    "id": "AIIh-u7a-5o0"
   },
   "source": [
    "**Process the data**"
   ]
  },
  {
   "cell_type": "code",
   "execution_count": null,
   "metadata": {
    "colab": {
     "base_uri": "https://localhost:8080/"
    },
    "id": "-z89fNux9TFj",
    "outputId": "fb0416ec-cd18-432d-9fcc-25d29ee1c5ed"
   },
   "outputs": [
    {
     "name": "stdout",
     "output_type": "stream",
     "text": [
      "dim_data: 784\n"
     ]
    }
   ],
   "source": [
    "# Change from matrix to array of dimension 28x28 to array of dimension 784\n",
    "dim_data = np.prod(train_images.shape[1:])\n",
    "print(\"dim_data:\", dim_data)\n",
    "\n",
    "train_data = train_images.reshape(train_images.shape[0], dim_data)\n",
    "test_data = test_images.reshape(test_images.shape[0], dim_data)"
   ]
  },
  {
   "cell_type": "code",
   "execution_count": null,
   "metadata": {
    "colab": {
     "base_uri": "https://localhost:8080/"
    },
    "id": "CG8kQOEh8R6J",
    "outputId": "4a91968b-76a8-48f6-bcce-1c23e090c555"
   },
   "outputs": [
    {
     "name": "stdout",
     "output_type": "stream",
     "text": [
      "train_data shape :  (480, 784)\n",
      "test_data shape :  (120, 784)\n"
     ]
    }
   ],
   "source": [
    "print('train_data shape : ', train_data.shape)\n",
    "print('test_data shape : ', test_data.shape)"
   ]
  },
  {
   "cell_type": "code",
   "execution_count": null,
   "metadata": {
    "id": "ArGXXzQM9dMu"
   },
   "outputs": [],
   "source": [
    "# Change to float datatype\n",
    "train_data = train_data.astype('float32')\n",
    "test_data = test_data.astype('float32')"
   ]
  },
  {
   "cell_type": "code",
   "execution_count": null,
   "metadata": {
    "id": "9sK2A1sz9g1X"
   },
   "outputs": [],
   "source": [
    "# Change the labels from integer to categorical data\n",
    "train_labels_one_hot = to_categorical(train_labels)\n",
    "test_labels_one_hot = to_categorical(test_labels)"
   ]
  },
  {
   "cell_type": "code",
   "execution_count": null,
   "metadata": {
    "colab": {
     "base_uri": "https://localhost:8080/"
    },
    "id": "E4QVeuVg8ewn",
    "outputId": "f9186445-b502-4ec9-f51f-9f2c267f5a82"
   },
   "outputs": [
    {
     "data": {
      "text/plain": [
       "2"
      ]
     },
     "execution_count": 16,
     "metadata": {},
     "output_type": "execute_result"
    }
   ],
   "source": [
    "train_labels[0]"
   ]
  },
  {
   "cell_type": "code",
   "execution_count": null,
   "metadata": {
    "colab": {
     "base_uri": "https://localhost:8080/"
    },
    "id": "KKOm5hpV4t-Z",
    "outputId": "228c0929-7d36-48fc-b7f5-7d0b13708147"
   },
   "outputs": [
    {
     "data": {
      "text/plain": [
       "array([0., 0., 1., 0., 0., 0., 0., 0., 0., 0.], dtype=float32)"
      ]
     },
     "execution_count": 17,
     "metadata": {},
     "output_type": "execute_result"
    }
   ],
   "source": [
    "train_labels_one_hot[0]"
   ]
  },
  {
   "cell_type": "markdown",
   "metadata": {
    "id": "a7V_GgdI--LR"
   },
   "source": [
    "**Create the Network Architecure**\n",
    "\n",
    "Following is an example of **Fully Connected Neural Network** for 3 class clasification problem"
   ]
  },
  {
   "cell_type": "markdown",
   "metadata": {
    "id": "W2HA5dxI91Xj"
   },
   "source": [
    "![Fully Connected.PNG](data:image/png;base64,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)"
   ]
  },
  {
   "cell_type": "code",
   "execution_count": null,
   "metadata": {
    "colab": {
     "base_uri": "https://localhost:8080/"
    },
    "id": "kMDRmq2_9qAc",
    "outputId": "449ee8ca-0858-4416-b174-9430f808d80b"
   },
   "outputs": [
    {
     "data": {
      "text/plain": [
       "keras.engine.sequential.Sequential"
      ]
     },
     "execution_count": 18,
     "metadata": {},
     "output_type": "execute_result"
    }
   ],
   "source": [
    "from tensorflow.keras.models import Sequential\n",
    "from tensorflow.keras.layers import Dense\n",
    "\n",
    "model = Sequential()\n",
    "model.add(Dense(256, activation='relu', input_shape=(dim_data,)))\n",
    "model.add(Dense(512, activation='relu'))\n",
    "model.add(Dense(classes_num, activation='softmax'))\n",
    "type(model)"
   ]
  },
  {
   "cell_type": "markdown",
   "metadata": {
    "id": "IIH_6Rxm_ChV"
   },
   "source": [
    "**Configure the Network**"
   ]
  },
  {
   "cell_type": "code",
   "execution_count": null,
   "metadata": {
    "id": "R_FRjhZ49u-B"
   },
   "outputs": [],
   "source": [
    "model.compile(optimizer='adam', loss='categorical_crossentropy', metrics=['accuracy'])"
   ]
  },
  {
   "cell_type": "markdown",
   "metadata": {
    "id": "4D5fYNWO_EvO"
   },
   "source": [
    "**Train the Model**"
   ]
  },
  {
   "cell_type": "code",
   "execution_count": null,
   "metadata": {
    "colab": {
     "base_uri": "https://localhost:8080/"
    },
    "id": "tQ6-qE7G9xmA",
    "outputId": "ae085925-2ea9-40c4-e73f-63c9bdac353a"
   },
   "outputs": [
    {
     "name": "stdout",
     "output_type": "stream",
     "text": [
      "Epoch 1/15\n",
      "4/4 [==============================] - 1s 69ms/step - loss: 89.0359 - accuracy: 0.1646 - val_loss: 52.2471 - val_accuracy: 0.4167\n",
      "Epoch 2/15\n",
      "4/4 [==============================] - 0s 15ms/step - loss: 30.7710 - accuracy: 0.5521 - val_loss: 18.8460 - val_accuracy: 0.6083\n",
      "Epoch 3/15\n",
      "4/4 [==============================] - 0s 15ms/step - loss: 7.6237 - accuracy: 0.7583 - val_loss: 12.0063 - val_accuracy: 0.6917\n",
      "Epoch 4/15\n",
      "4/4 [==============================] - 0s 16ms/step - loss: 4.9658 - accuracy: 0.8146 - val_loss: 10.9016 - val_accuracy: 0.7583\n",
      "Epoch 5/15\n",
      "4/4 [==============================] - 0s 15ms/step - loss: 1.7802 - accuracy: 0.9000 - val_loss: 8.6545 - val_accuracy: 0.7583\n",
      "Epoch 6/15\n",
      "4/4 [==============================] - 0s 16ms/step - loss: 0.7858 - accuracy: 0.9521 - val_loss: 9.1031 - val_accuracy: 0.7667\n",
      "Epoch 7/15\n",
      "4/4 [==============================] - 0s 15ms/step - loss: 0.5634 - accuracy: 0.9542 - val_loss: 7.4797 - val_accuracy: 0.7833\n",
      "Epoch 8/15\n",
      "4/4 [==============================] - 0s 18ms/step - loss: 0.2691 - accuracy: 0.9854 - val_loss: 6.5281 - val_accuracy: 0.7917\n",
      "Epoch 9/15\n",
      "4/4 [==============================] - 0s 16ms/step - loss: 0.1371 - accuracy: 0.9937 - val_loss: 6.3490 - val_accuracy: 0.8167\n",
      "Epoch 10/15\n",
      "4/4 [==============================] - 0s 16ms/step - loss: 0.0810 - accuracy: 0.9979 - val_loss: 6.3753 - val_accuracy: 0.8250\n",
      "Epoch 11/15\n",
      "4/4 [==============================] - 0s 18ms/step - loss: 0.0567 - accuracy: 0.9979 - val_loss: 6.3375 - val_accuracy: 0.8250\n",
      "Epoch 12/15\n",
      "4/4 [==============================] - 0s 16ms/step - loss: 0.0186 - accuracy: 0.9979 - val_loss: 6.2698 - val_accuracy: 0.8333\n",
      "Epoch 13/15\n",
      "4/4 [==============================] - 0s 17ms/step - loss: 8.7250e-04 - accuracy: 1.0000 - val_loss: 6.2034 - val_accuracy: 0.8333\n",
      "Epoch 14/15\n",
      "4/4 [==============================] - 0s 16ms/step - loss: 1.6391e-04 - accuracy: 1.0000 - val_loss: 6.1716 - val_accuracy: 0.8417\n",
      "Epoch 15/15\n",
      "4/4 [==============================] - 0s 15ms/step - loss: 1.0627e-04 - accuracy: 1.0000 - val_loss: 6.1545 - val_accuracy: 0.8333\n"
     ]
    }
   ],
   "source": [
    "history = model.fit(train_data, train_labels_one_hot, batch_size=128, epochs=15, verbose=1, \n",
    "                   validation_data=(test_data, test_labels_one_hot))"
   ]
  },
  {
   "cell_type": "markdown",
   "metadata": {
    "id": "srsgl8M2_H8b"
   },
   "source": [
    "**Evaluate the trained model**"
   ]
  },
  {
   "cell_type": "code",
   "execution_count": null,
   "metadata": {
    "colab": {
     "base_uri": "https://localhost:8080/"
    },
    "id": "FOdYSGHT91UE",
    "outputId": "bc898563-e1ed-4e02-ccde-b5da48cfbdc4"
   },
   "outputs": [
    {
     "name": "stdout",
     "output_type": "stream",
     "text": [
      "4/4 [==============================] - 0s 4ms/step - loss: 6.1545 - accuracy: 0.8333\n",
      "Evaluation result on Test Data : Loss = 6.154517650604248, accuracy = 0.8333333134651184\n"
     ]
    }
   ],
   "source": [
    "[test_loss, test_acc] = model.evaluate(test_data, test_labels_one_hot)\n",
    "print(\"Evaluation result on Test Data : Loss = {}, accuracy = {}\".format(test_loss, test_acc))"
   ]
  },
  {
   "cell_type": "markdown",
   "metadata": {
    "id": "2SIGBfc5_JoZ"
   },
   "source": [
    "**Display Loss and Accuracy Plots**"
   ]
  },
  {
   "cell_type": "code",
   "execution_count": null,
   "metadata": {
    "colab": {
     "base_uri": "https://localhost:8080/",
     "height": 822
    },
    "id": "t8g9Hq7P95gM",
    "outputId": "f10c4b23-dd99-4351-b2cf-3c5c808b6bf9"
   },
   "outputs": [
    {
     "data": {
      "text/plain": [
       "Text(0.5, 1.0, 'Accuracy Curves')"
      ]
     },
     "execution_count": 24,
     "metadata": {},
     "output_type": "execute_result"
    },
    {
     "data": {
      "image/png": "[encoded data removed]",
      "text/plain": [
       "<Figure size 576x432 with 1 Axes>"
      ]
     },
     "metadata": {
      "needs_background": "light"
     },
     "output_type": "display_data"
    },
    {
     "data": {
      "image/png": "[encoded data removed]",
      "text/plain": [
       "<Figure size 576x432 with 1 Axes>"
      ]
     },
     "metadata": {
      "needs_background": "light"
     },
     "output_type": "display_data"
    }
   ],
   "source": [
    "#Plot the Loss Curves\n",
    "plt.figure(figsize=[8,6])\n",
    "plt.plot(history.history['loss'],'r',linewidth=3.0)\n",
    "plt.plot(history.history['val_loss'],'b',linewidth=3.0)\n",
    "plt.legend(['Training loss', 'Validation Loss'],fontsize=18)\n",
    "plt.xlabel('Epochs ',fontsize=16)\n",
    "plt.ylabel('Loss',fontsize=16)\n",
    "plt.title('Loss Curves',fontsize=16)\n",
    "\n",
    "#Plot the Accuracy Curves\n",
    "plt.figure(figsize=[8,6])\n",
    "plt.plot(history.history['accuracy'],'r',linewidth=3.0)\n",
    "plt.plot(history.history['val_accuracy'],'b',linewidth=3.0)\n",
    "plt.legend(['Training Accuracy', 'Validation Accuracy'],fontsize=18)\n",
    "plt.xlabel('Epochs ',fontsize=16)\n",
    "plt.ylabel('Accuracy',fontsize=16)\n",
    "plt.title('Accuracy Curves',fontsize=16)"
   ]
  },
  {
   "cell_type": "markdown",
   "metadata": {
    "id": "gSmw1LiD_TSc"
   },
   "source": [
    "**Testing a single image**"
   ]
  },
  {
   "cell_type": "code",
   "execution_count": null,
   "metadata": {
    "colab": {
     "base_uri": "https://localhost:8080/",
     "height": 316
    },
    "id": "dF1gnXRd-J0-",
    "outputId": "92a84cd9-40c7-424f-eeab-bcb395885fed"
   },
   "outputs": [
    {
     "name": "stdout",
     "output_type": "stream",
     "text": [
      "Model prediction: 3\n"
     ]
    },
    {
     "data": {
      "text/plain": [
       "Text(0.5, 1.0, 'Ground Truth : 3')"
      ]
     },
     "execution_count": 25,
     "metadata": {},
     "output_type": "execute_result"
    },
    {
     "data": {
      "image/png": "[encoded data removed]",
      "text/plain": [
       "<Figure size 432x288 with 1 Axes>"
      ]
     },
     "metadata": {
      "needs_background": "light"
     },
     "output_type": "display_data"
    }
   ],
   "source": [
    "# Predict the most likely class\n",
    "print(\"Model prediction: {}\".format(np.argmax(model.predict(test_data[[7],:])[0])))\n",
    "\n",
    "# Display the predicted image\n",
    "plt.imshow(test_images[7], cmap='gray')\n",
    "plt.title(\"Ground Truth : {}\".format(test_labels[7]))"
   ]
  }
 ],
 "metadata": {
  "colab": {
   "collapsed_sections": [],
   "name": "MNIST_Classification.ipynb",
   "provenance": []
  },
  "kernelspec": {
   "display_name": "Python 3 (ipykernel)",
   "language": "python",
   "name": "python3"
  },
  "language_info": {
   "codemirror_mode": {
    "name": "ipython",
    "version": 3
   },
   "file_extension": ".py",
   "mimetype": "text/x-python",
   "name": "python",
   "nbconvert_exporter": "python",
   "pygments_lexer": "ipython3",
   "version": "3.9.12"
  }
 },
 "nbformat": 4,
 "nbformat_minor": 1
}
